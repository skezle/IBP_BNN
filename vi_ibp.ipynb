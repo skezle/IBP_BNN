{
 "cells": [
  {
   "cell_type": "code",
   "execution_count": 1,
   "metadata": {},
   "outputs": [
    {
     "data": {
      "text/plain": [
       "'\\nBased off of:\\n\\nhttps://github.com/jamesmcinerney/vi_ibp/\\n'"
      ]
     },
     "execution_count": 1,
     "metadata": {},
     "output_type": "execute_result"
    }
   ],
   "source": [
    "\"\"\"\n",
    "Based off of:\n",
    "\n",
    "https://github.com/jamesmcinerney/vi_ibp/\n",
    "\"\"\""
   ]
  },
  {
   "cell_type": "code",
   "execution_count": 2,
   "metadata": {},
   "outputs": [],
   "source": [
    "import numpy as np\n",
    "import random\n",
    "from scipy.special import psi\n",
    "import sys\n",
    "import os\n",
    "import time\n",
    "\n",
    "import matplotlib\n",
    "%matplotlib inline\n",
    "import matplotlib.pyplot as plt\n",
    "from matplotlib import cm\n",
    "\n",
    "np.random.seed(123)"
   ]
  },
  {
   "cell_type": "code",
   "execution_count": 3,
   "metadata": {},
   "outputs": [],
   "source": [
    "def generate_synthetic_data(N, K, d1, d2):\n",
    "    \"\"\"\n",
    "    Generates synthetic dataset of images with a fixed basis\n",
    "    \n",
    "    X = Zs\n",
    "    X \\in NxD\n",
    "    Z \\in NxK\n",
    "    s \\in KxD\n",
    "    \n",
    "    D = d1xd2\n",
    "    \n",
    "    Args:\n",
    "        N: number of points in the data set\n",
    "        K: number of underlying features\n",
    "        d1: length of first dimension\n",
    "        d2: length of second dimension\n",
    "        \n",
    "    Returns:\n",
    "        s: array K x D dictionary of features\n",
    "        X: synthetically generated dataset\n",
    "        \n",
    "    \"\"\"\n",
    "    D = d1*d2\n",
    "    \n",
    "    #define some shapes\n",
    "    s = np.zeros((K,D))\n",
    "\n",
    "    assert K == 8, \"we have 8 dims for K\"\n",
    "\n",
    "    s[0,:] = np.array([[0,0,1,0],\n",
    "                       [1,1,1,1],\n",
    "                       [0,0,1,0],\n",
    "                       [0,0,0,0]]).flatten()\n",
    "    s[1,:] = np.array([[0,1,0,0],\n",
    "                       [0,1,0,0],\n",
    "                       [0,1,0,0],\n",
    "                       [0,1,0,0]]).flatten()\n",
    "    s[2,:] = np.array([[1,1,1,1],\n",
    "                       [0,0,0,0],\n",
    "                       [0,0,0,0],\n",
    "                       [0,0,0,0]]).flatten()\n",
    "    s[3,:] = np.array([[1,0,0,0],\n",
    "                       [0,1,0,0],\n",
    "                       [0,0,1,0],\n",
    "                       [0,0,0,1]]).flatten()\n",
    "    s[4,:] = np.array([[0,0,0,0],\n",
    "                       [0,0,0,0],\n",
    "                       [1,1,0,0],\n",
    "                       [1,1,0,0]]).flatten()\n",
    "    s[5,:] = np.array([[1,1,1,1],\n",
    "                       [1,0,0,1],\n",
    "                       [1,0,0,1],\n",
    "                       [1,1,1,1]]).flatten()\n",
    "    s[6,:] = np.array([[0,0,0,0],\n",
    "                       [0,1,1,0],\n",
    "                       [0,1,1,0],\n",
    "                       [0,0,0,0]]).flatten()\n",
    "    s[7,:] = np.array([[0,0,0,1],\n",
    "                       [0,0,0,1],\n",
    "                       [0,0,0,1],\n",
    "                       [0,0,0,1]]).flatten()\n",
    "\n",
    "    pr_z = 0.3\n",
    "    w = np.random.uniform(0.5, 1.0, K) # weight of features\n",
    "    mut = w[:,np.newaxis]*s\n",
    "    z = np.random.binomial(1, pr_z, (N, K)) # each feature occurs with prob 0.3 independently \n",
    "    X = np.dot(z,mut) + np.random.randn(N, D)*0.1 \n",
    "\n",
    "    return s, X"
   ]
  },
  {
   "cell_type": "code",
   "execution_count": 34,
   "metadata": {},
   "outputs": [],
   "source": [
    "def plot_grid(X, d1, d2, final=0, title='', order='C'):\n",
    "    #takes a NxD matrix and plots N d1xd2 images (where d1xd2==D)\n",
    "    (N,D) = np.shape(X)\n",
    "    n1 = int(np.sqrt(N))+1\n",
    "    fig, ax = plt.subplots(n1, n1)\n",
    "    n = 0\n",
    "    for i in range(n1):\n",
    "        for j in range(n1):\n",
    "            if n >= N: break\n",
    "            imgplot = ax[i,j].imshow(np.reshape(X[n,:], (d1,d2), order=order).T,\n",
    "                                     cmap=cm.Greys_r) #, vmin=0, vmax=2)\n",
    "            imgplot.set_interpolation('nearest')\n",
    "            n += 1 \n",
    "    fig.suptitle(title)\n",
    "    fig.show()"
   ]
  },
  {
   "cell_type": "code",
   "execution_count": 35,
   "metadata": {},
   "outputs": [
    {
     "name": "stderr",
     "output_type": "stream",
     "text": [
      "/home/skessler/anaconda2/envs/py36/lib/python3.6/site-packages/matplotlib/figure.py:445: UserWarning: Matplotlib is currently using module://ipykernel.pylab.backend_inline, which is a non-GUI backend, so cannot show the figure.\n",
      "  % get_backend())\n"
     ]
    },
    {
     "data": {
      "image/png": "[encoded data removed]",
      "text/plain": [
       "<Figure size 432x288 with 9 Axes>"
      ]
     },
     "metadata": {
      "needs_background": "light"
     },
     "output_type": "display_data"
    }
   ],
   "source": [
    "################################\n",
    "## Generate synthetic dataset ##\n",
    "################################\n",
    "N = 500\n",
    "d1, d2 = 4, 4\n",
    "D = d1*d2\n",
    "K = 8\n",
    "dictionary, X = generate_synthetic_data(N, K, d1, d2)\n",
    "plot_grid(dictionary, d1, d2, title='Ground Truth Means')"
   ]
  },
  {
   "cell_type": "code",
   "execution_count": 23,
   "metadata": {},
   "outputs": [
    {
     "data": {
      "text/plain": [
       "(500, 16)"
      ]
     },
     "execution_count": 23,
     "metadata": {},
     "output_type": "execute_result"
    }
   ],
   "source": [
    "X.shape"
   ]
  },
  {
   "cell_type": "code",
   "execution_count": 70,
   "metadata": {},
   "outputs": [],
   "source": [
    "#######################\n",
    "## Model Hyperparams ##\n",
    "#######################\n",
    "K = 15\n",
    "sigma_A = 0.1\n",
    "sigma_n = 0.1\n",
    "alpha = 1\n",
    "\n",
    "#############################\n",
    "## Optimization parameters ##\n",
    "#############################\n",
    "rounds = 200\n",
    "\n",
    "############################\n",
    "## Variational parameters ##\n",
    "############################\n",
    "Phi = 0.1 * np.ones((D, D, K))\n",
    "phi = np.random.uniform(0, 1, (K, D))\n",
    "tau = np.random.uniform(0, 1, (K, 2))\n",
    "nu = np.random.uniform(0, 1, (N, K))\n",
    "nu = nu/np.sum(nu, axis=1).reshape((-1,1)) # want contributions from features space to sum to 1"
   ]
  },
  {
   "cell_type": "code",
   "execution_count": 76,
   "metadata": {},
   "outputs": [
    {
     "name": "stdout",
     "output_type": "stream",
     "text": [
      "Iter: 0\n",
      "Iter: 100\n"
     ]
    }
   ],
   "source": [
    "for t in range(rounds):\n",
    "    if t % 100 == 0:\n",
    "        print(\"Iter: {}\".format(t))\n",
    "        \n",
    "    # Local updates for variational Bernoulli parameters\n",
    "    A = np.zeros((N, K))\n",
    "    P = X - np.dot(nu, phi) # N x D\n",
    "    v = np.zeros((N, K))\n",
    "    for k in range(K):\n",
    "        # eqn on p 28 of Doshi\n",
    "        # for all n and k!\n",
    "        A[:, k] = np.dot(phi[k, :], # D\n",
    "                         np.transpose(P + np.outer(nu[:, k], phi[k, :]))\n",
    "                         ) # D x (N x D) = N\n",
    "        \n",
    "        v[:, k] = psi(tau[k, 0]) + psi(tau[k, 1]) -\\\n",
    "                    (0.5/(sigma_n**2))*(np.trace(Phi[:,:,k]) +\\\n",
    "                    np.dot(phi[k, :], phi[k, :])) + (1/(sigma_n**2))*A[:,k]\n",
    "                                        \n",
    "        nu[:, k] = 1.0 / (1.0 + np.exp(-v[:, k]))    \n",
    "    # Update the variational parameters for the Gaussian dictionary    \n",
    "    # eqn on page 27 of Doshi \n",
    "    # for all k\n",
    "    for k in range(K):\n",
    "        Phi[:, :, k]    = (1.0/(1/sigma_A**2 + (1/sigma_n**2) * np.sum(nu[:,k]))) * np.identity(D)\n",
    "        phi[k, :]       = (1/sigma_n**2) * \\\n",
    "                           np.dot(nu[:, k].T, X - np.dot(nu, phi) + np.outer(nu[:, k], phi[k, :])) *\\\n",
    "                           Phi[0, 0, k]\n",
    "\n",
    "    # Update variational Beta parameters\n",
    "    # eqn on page 28 of Doshi\n",
    "    nu_sum = np.sum(nu_local, axis=0)\n",
    "    tau_tmp[:, 0] = alpha/K + nu_sum\n",
    "    tau_tmp[:, 1] = N + 1 - nu_sum"
   ]
  },
  {
   "cell_type": "code",
   "execution_count": 77,
   "metadata": {},
   "outputs": [
    {
     "name": "stderr",
     "output_type": "stream",
     "text": [
      "/home/skessler/anaconda2/envs/py36/lib/python3.6/site-packages/matplotlib/figure.py:445: UserWarning: Matplotlib is currently using module://ipykernel.pylab.backend_inline, which is a non-GUI backend, so cannot show the figure.\n",
      "  % get_backend())\n"
     ]
    },
    {
     "data": {
      "image/png": "[encoded data removed]",
      "text/plain": [
       "<Figure size 432x288 with 16 Axes>"
      ]
     },
     "metadata": {
      "needs_background": "light"
     },
     "output_type": "display_data"
    }
   ],
   "source": [
    "plot_grid(phi, d1, d2, title='Inferred Means', order='F')"
   ]
  },
  {
   "cell_type": "code",
   "execution_count": null,
   "metadata": {},
   "outputs": [],
   "source": []
  },
  {
   "cell_type": "code",
   "execution_count": null,
   "metadata": {},
   "outputs": [],
   "source": []
  }
 ],
 "metadata": {
  "kernelspec": {
   "display_name": "Python 3",
   "language": "python",
   "name": "python3"
  },
  "language_info": {
   "codemirror_mode": {
    "name": "ipython",
    "version": 3
   },
   "file_extension": ".py",
   "mimetype": "text/x-python",
   "name": "python",
   "nbconvert_exporter": "python",
   "pygments_lexer": "ipython3",
   "version": "3.6.8"
  }
 },
 "nbformat": 4,
 "nbformat_minor": 2
}
