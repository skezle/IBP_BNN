{
 "cells": [
  {
   "cell_type": "code",
   "execution_count": 6,
   "metadata": {},
   "outputs": [],
   "source": [
    "import numpy as np\n",
    "import tensorflow as tf\n",
    "import gzip\n",
    "import pickle\n",
    "import sys\n",
    "from ddm.run_split import SplitMnistGenerator\n",
    "from ddm.alg.vcl import run_vcl\n",
    "from ddm.alg.coreset import rand_from_batch, k_center\n",
    "from ddm.alg.utils import plot\n",
    "from copy import deepcopy\n",
    "\n",
    "import matplotlib\n",
    "%matplotlib inline\n",
    "import matplotlib.pyplot as plt"
   ]
  },
  {
   "cell_type": "markdown",
   "metadata": {},
   "source": [
    "# Split MNIST"
   ]
  },
  {
   "cell_type": "code",
   "execution_count": null,
   "metadata": {},
   "outputs": [
    {
     "name": "stdout",
     "output_type": "stream",
     "text": [
      "Epoch: 0001 cost= 0.727379918\n",
      "Epoch: 0006 cost= 0.022990299\n",
      "Epoch: 0011 cost= 0.008503349\n",
      "Epoch: 0016 cost= 0.005197641\n",
      "Epoch: 0021 cost= 0.003914721\n",
      "Epoch: 0026 cost= 0.002784967\n",
      "Epoch: 0031 cost= 0.002196545\n",
      "Epoch: 0036 cost= 0.001785548\n",
      "Epoch: 0041 cost= 0.001417262\n",
      "Epoch: 0046 cost= 0.001146567\n",
      "Epoch: 0051 cost= 0.000900536\n",
      "Epoch: 0056 cost= 0.000706360\n",
      "Epoch: 0061 cost= 0.000542092\n",
      "Epoch: 0066 cost= 0.000414987\n",
      "Epoch: 0071 cost= 0.000332588\n",
      "Epoch: 0076 cost= 0.000277242\n",
      "Epoch: 0081 cost= 0.000234378\n",
      "Epoch: 0086 cost= 0.000201234\n",
      "Epoch: 0091 cost= 0.000175067\n",
      "Epoch: 0096 cost= 0.000154046\n",
      "Optimization Finished!\n",
      "Epoch: 0001 cost= 52.867527008\n",
      "Epoch: 0006 cost= 52.814170837\n"
     ]
    }
   ],
   "source": [
    "hidden_size = [256, 256]\n",
    "batch_size = None\n",
    "no_epochs = 100\n",
    "single_head = False\n",
    "\n",
    "# Run vanilla VCL\n",
    "tf.set_random_seed(12)\n",
    "np.random.seed(1)\n",
    "\n",
    "coreset_size = 0\n",
    "data_gen = SplitMnistGenerator()\n",
    "vcl_result = run_vcl(hidden_size, no_epochs, data_gen, \n",
    "    rand_from_batch, coreset_size, batch_size, single_head) # runs loop of tasks, trains/re-trains vcl, evaluates vcl\n",
    "print(vcl_result)\n",
    "\n",
    "# # Run random coreset VCL\n",
    "# tf.reset_default_graph()\n",
    "# tf.set_random_seed(12)\n",
    "# np.random.seed(1)\n",
    "#\n",
    "# coreset_size = 40\n",
    "# data_gen = SplitMnistGenerator()\n",
    "# rand_vcl_result = vcl.run_vcl(hidden_size, no_epochs, data_gen,\n",
    "#     coreset.rand_from_batch, coreset_size, batch_size, single_head)\n",
    "# print(rand_vcl_result)\n",
    "#\n",
    "# # Run k-center coreset VCL\n",
    "# tf.reset_default_graph()\n",
    "# tf.set_random_seed(12)\n",
    "# np.random.seed(1)\n",
    "#\n",
    "# data_gen = SplitMnistGenerator()\n",
    "# kcen_vcl_result = vcl.run_vcl(hidden_size, no_epochs, data_gen,\n",
    "#     coreset.k_center, coreset_size, batch_size, single_head)\n",
    "# print(kcen_vcl_result)\n",
    "\n",
    "# Plot average accuracy\n",
    "vcl_avg = np.nanmean(vcl_result, 1)\n",
    "# rand_vcl_avg = np.nanmean(rand_vcl_result, 1)\n",
    "# kcen_vcl_avg = np.nanmean(kcen_vcl_result, 1)\n",
    "plt.plot(vcl_avg)\n",
    "plt.show()"
   ]
  },
  {
   "cell_type": "code",
   "execution_count": null,
   "metadata": {},
   "outputs": [],
   "source": []
  }
 ],
 "metadata": {
  "kernelspec": {
   "display_name": "Python 3",
   "language": "python",
   "name": "python3"
  },
  "language_info": {
   "codemirror_mode": {
    "name": "ipython",
    "version": 3
   },
   "file_extension": ".py",
   "mimetype": "text/x-python",
   "name": "python",
   "nbconvert_exporter": "python",
   "pygments_lexer": "ipython3",
   "version": "3.6.8"
  }
 },
 "nbformat": 4,
 "nbformat_minor": 2
}
