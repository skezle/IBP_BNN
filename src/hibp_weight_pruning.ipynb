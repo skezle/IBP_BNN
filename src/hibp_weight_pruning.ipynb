{
 "cells": [
  {
   "cell_type": "code",
   "execution_count": 38,
   "metadata": {},
   "outputs": [],
   "source": [
    "import numpy as np\n",
    "import tensorflow as tf\n",
    "import gzip\n",
    "import pickle\n",
    "import sys\n",
    "import copy\n",
    "import os.path\n",
    "import pdb\n",
    "import re\n",
    "from run_split import SplitMnistGenerator\n",
    "from alg.cla_models_multihead import MFVI_NN, Vanilla_NN\n",
    "from alg.HIBP_BNN_multihead import HIBP_BNN\n",
    "from alg.IBP_BNN_multihead import IBP_BNN\n",
    "from hibp_weight_pruning import prune_weights, MnistGenerator\n",
    "from alg.utils import get_scores, concatenate_results\n",
    "from alg.vcl import run_vcl\n",
    "from copy import deepcopy\n",
    "\n",
    "import matplotlib\n",
    "%matplotlib inline\n",
    "import matplotlib.pyplot as plt"
   ]
  },
  {
   "cell_type": "markdown",
   "metadata": {},
   "source": [
    "# Weight pruning"
   ]
  },
  {
   "cell_type": "code",
   "execution_count": null,
   "metadata": {},
   "outputs": [],
   "source": [
    "hidden_size = [200, 200]\n",
    "batch_size = 128\n",
    "no_epochs = 100\n",
    "runs = 1\n",
    "seeds = [1,2,3,4,5]\n",
    "np.random.seed(1)\n",
    "xs = np.append(0.1 * np.array(range(10)), [0.95, 0.96, 0.97, 0.98, 0.99, 0.992, 0.995, 0.997, 0.999])\n",
    "ya_ibp_all = np.zeros((runs, len(xs)))\n",
    "yb_ibp_all = np.zeros((runs, len(xs)))\n",
    "\n",
    "for i in range(runs):\n",
    "    tf.set_random_seed(seeds[i])\n",
    "    coreset_size = 0\n",
    "    data_gen = MnistGenerator(val=False)\n",
    "    single_head=False\n",
    "    in_dim, out_dim = data_gen.get_dims()\n",
    "    x_testsets, y_testsets = [], []\n",
    "    task_id=0\n",
    "\n",
    "    tf.reset_default_graph()  \n",
    "    x_train, y_train, x_test, y_test = data_gen.task()\n",
    "    x_testsets.append(x_test)\n",
    "    y_testsets.append(y_test)\n",
    "\n",
    "    # Set the readout head to train\n",
    "    head = 0 if single_head else task_id\n",
    "    bsize = x_train.shape[0] if (batch_size is None) else batch_size\n",
    "\n",
    "    # Train network with maximum likelihood to initialize first model\n",
    "    if task_id == 0:\n",
    "        ml_model = Vanilla_NN(in_dim, hidden_size, out_dim, x_train.shape[0])\n",
    "        ml_model.train(x_train, y_train, task_id, 10, bsize)\n",
    "        mf_weights = ml_model.get_weights()\n",
    "        mf_variances = None\n",
    "        mf_betas = None\n",
    "        ml_model.close_session()\n",
    "\n",
    "    # Train on non-coreset data\n",
    "    model = HIBP_BNN(alphas=[1.]*len(hidden_size), \n",
    "                     input_size=in_dim, \n",
    "                     hidden_size=hidden_size, \n",
    "                     output_size=out_dim, \n",
    "                     training_size=x_train.shape[0], \n",
    "                     no_pred_samples=10,\n",
    "                     num_ibp_samples=10, prev_means=mf_weights, \n",
    "                     prev_log_variances=mf_variances, \n",
    "                     prev_betas=mf_betas,\n",
    "                     learning_rate=0.001, learning_rate_decay=0.87,\n",
    "                     prior_mean=0.0, prior_var=0.7,\n",
    "                     alpha0=5.0, beta0=1.0,\n",
    "                     lambda_1=5.0, lambda_2=1.0,\n",
    "                     tensorboard_dir='logs_wp',\n",
    "                     name='hibp_anneal',\n",
    "                     use_local_reparam=True, implicit_beta=True,\n",
    "                     hard_Z=False, cutoff=0.1)\n",
    "    model.create_model()\n",
    "    #model.restore(os.path.join(\"logs_wp\", 'graph_{0}'.format('hibp_mnist_hZ_n_ibp_samples100')))\n",
    "    model.train(x_train, y_train, head, no_epochs, bsize)\n",
    "    acc, neg_elbo = model.prediction_acc(x_test, y_test, bsize, head)\n",
    "    print(acc)\n",
    "    print(neg_elbo)\n",
    "\n",
    "#     xs, ya_ibp, yb_ibp  = prune_weights(model, x_test, y_test, bsize, head, xs)\n",
    "#     ya_ibp_all[i, :] = ya_ibp\n",
    "#     yb_ibp_all[i, :] = yb_ibp\n",
    "\n",
    "    model.close_session()"
   ]
  },
  {
   "cell_type": "code",
   "execution_count": null,
   "metadata": {},
   "outputs": [],
   "source": [
    "with open('results/weight_pruning_ibp_new_xs.pkl', 'wb') as input_file:\n",
    "    pickle.dump({'xs': xs,\n",
    "                 'ya_ibp': ya_ibp_all,\n",
    "                 'yb_ibp': yb_ibp_all}, input_file)"
   ]
  },
  {
   "cell_type": "markdown",
   "metadata": {},
   "source": [
    "# No IBP"
   ]
  },
  {
   "cell_type": "code",
   "execution_count": null,
   "metadata": {},
   "outputs": [],
   "source": [
    "hidden_size = [200, 200]\n",
    "batch_size = 128\n",
    "no_epochs = 100\n",
    "runs = 1\n",
    "seeds = [10,11,12,13,14]\n",
    "xs = np.append(0.05 * np.array(range(20)), np.array([0.98, 0.99, 0.999]))\n",
    "ya_all = np.zeros((runs, len(xs)))\n",
    "yb_all = np.zeros((runs, len(xs)))\n",
    "\n",
    "for i in range(runs):\n",
    "    tf.set_random_seed(seeds[i])\n",
    "    np.random.seed(1)\n",
    "    coreset_size = 0\n",
    "    data_gen = MnistGenerator()\n",
    "    single_head=False\n",
    "    in_dim, out_dim = data_gen.get_dims()\n",
    "    task_id=0\n",
    "\n",
    "    tf.reset_default_graph()  \n",
    "    x_train, y_train, x_test, y_test = data_gen.task()\n",
    "\n",
    "    # Set the readout head to train\n",
    "    head = 0 if single_head else task_id\n",
    "    bsize = x_train.shape[0] if (batch_size is None) else batch_size\n",
    "\n",
    "    # Train network with maximum likelihood to initialize first model\n",
    "    if task_id == 0:\n",
    "        ml_model = Vanilla_NN(in_dim, hidden_size, out_dim, x_train.shape[0])\n",
    "        ml_model.train(x_train, y_train, task_id, 100, bsize)\n",
    "        mf_weights = ml_model.get_weights()\n",
    "        mf_variances = None\n",
    "        ml_model.close_session()\n",
    "\n",
    "    # Train on non-coreset data\n",
    "    model = MFVI_NN(in_dim, hidden_size, out_dim, x_train.shape[0], prev_means=mf_weights, \n",
    "                    prev_log_variances=mf_variances, \n",
    "                    learning_rate=0.001, learning_rate_decay=0.87,\n",
    "                    prior_mean=0.0, prior_var=0.8,\n",
    "                    tensorboard_dir='logs_wp',\n",
    "                    name='mfvi_wp_mnist_newp_run{0}'.format(i),\n",
    "                    use_local_reparam=True)\n",
    "    #model.restore(os.path.join(\"logs_wp\", 'graph_{0}'.format('hibp_wp_mnist_new_run{0}'.format(i))))\n",
    "    model.train(x_train, y_train, head, no_epochs, bsize)\n",
    "\n",
    "    xs, ya_ibp, yb_ibp  = prune_weights(model, x_test, y_test, bsize, head, xs)\n",
    "    \n",
    "    ya_all[i, :] = ya\n",
    "    yb_all[i, :] = yb\n",
    "\n",
    "    mf_model.close_session()"
   ]
  },
  {
   "cell_type": "code",
   "execution_count": null,
   "metadata": {},
   "outputs": [],
   "source": [
    "_ibp_ya_mean = np.mean(ya_ibp_all, axis=0)\n",
    "_ibp_ya_std = np.std(ya_ibp_all, axis=0)\n",
    "_ibp_yb_mean = np.mean(yb_ibp_all, axis=0)\n",
    "_ibp_yb_std = np.std(yb_ibp_all, axis=0)\n",
    "_ya_mean = np.mean(ya_all, axis=0)\n",
    "_ya_std = np.std(ya_all, axis=0)\n",
    "_yb_mean = np.mean(yb_all, axis=0)\n",
    "_yb_std = np.std(yb_all, axis=0)\n",
    "\n",
    "def test_error(ls):\n",
    "    return 100*(1-np.array(ls))\n",
    "\n",
    "fig_size = (6, 5)\n",
    "\n",
    "set_y_axis = False\n",
    "\n",
    "lw = 2\n",
    "\n",
    "grid_color = '0.1'\n",
    "grid_lw = 0.2\n",
    "\n",
    "title_size = 16\n",
    "label_size = 22\n",
    "tick_size = 20\n",
    "legend_size = 22\n",
    "\n",
    "fig, ax = plt.subplots(1, 1, figsize=fig_size)\n",
    "\n",
    "ax.plot(xs, _ibp_ya_mean,linewidth=lw, color='b')\n",
    "ax.fill_between(xs,\n",
    "               [x - y for x, y in zip(_ibp_ya_mean, _ibp_ya_std)],\n",
    "               [x + y for x, y in zip(_ibp_ya_mean, _ibp_ya_std)],\n",
    "               alpha=0.3, color='b')\n",
    "\n",
    "ax.plot(xs, _ibp_yb_mean, linewidth=lw, color='g')\n",
    "ax.fill_between(xs,\n",
    "               [x - y for x, y in zip(_ibp_yb_mean, _ibp_yb_std)],\n",
    "               [x + y for x, y in zip(_ibp_yb_mean, _ibp_yb_std)],\n",
    "               alpha=0.3, color='g')\n",
    "\n",
    "ax.plot(xs, _ya_mean,linewidth=lw, color='r')\n",
    "ax.fill_between(xs,\n",
    "               [x - y for x, y in zip(_ya_mean, _ya_std)],\n",
    "               [x + y for x, y in zip(_ya_mean, _ya_std)],\n",
    "               alpha=0.3, color='r')\n",
    "\n",
    "ax.plot(xs, _yb_mean, linewidth=lw, color='c')\n",
    "ax.fill_between(xs,\n",
    "               [x - y for x, y in zip(_yb_mean, _yb_std)],\n",
    "               [x + y for x, y in zip(_yb_mean, _yb_std)],\n",
    "               alpha=0.3, color='c')\n",
    "\n",
    "plt.grid(True, which=\"both\", color=grid_color, linewidth=0.1, alpha=0.1)\n",
    "ax.set_xlim(0.0, 0.5)\n",
    "plt.yticks(fontsize=tick_size)\n",
    "x_ticks = np.arange(0.0, 1.5, step=0.5)\n",
    "plt.xticks(x_ticks, fontsize=tick_size)\n",
    "plt.ticklabel_format(axis='y', style='sci')\n",
    "ax = fig.gca()\n",
    "ax.ticklabel_format(axis='y', style='sci', scilimits=(-1, 1))\n",
    "#ax.set_yticklabels([])\n",
    "plt.yscale('log')\n",
    "plt.legend([\"H-IBP $|\\mu|$\", 'H-IBP snr', '$|\\mu|$', 'snr'], fontsize=legend_size, loc='lower left')\n",
    "plt.tight_layout()\n",
    "plt.xlabel(\"Cut off\", fontsize=legend_size)\n",
    "plt.ylabel(\"Test acc\", fontsize=legend_size)\n",
    "plt.xlim(0.0, 1.01)\n",
    "plt.savefig(\"plots/weight_pruning_new_hibp.pdf\", bbox_inches='tight')\n",
    "plt.show()"
   ]
  },
  {
   "cell_type": "code",
   "execution_count": null,
   "metadata": {},
   "outputs": [],
   "source": [
    "xs = np.append(0.05 * np.array(range(20)), np.array([0.98, 0.99, 0.999]))"
   ]
  },
  {
   "cell_type": "code",
   "execution_count": null,
   "metadata": {},
   "outputs": [],
   "source": [
    "with open('results/weight_pruning_hibp.pkl', 'wb') as input_file:\n",
    "    pickle.dump({'xs': xs,\n",
    "                 'ya_nnvi': ya_all,\n",
    "                 'yb_nnvi': yb_all,\n",
    "                 'ya_ibp': ya_ibp_all,\n",
    "                 'yb_ibp': yb_ibp_all}, input_file)"
   ]
  },
  {
   "cell_type": "markdown",
   "metadata": {},
   "source": [
    "## Loading data from pickle"
   ]
  },
  {
   "cell_type": "code",
   "execution_count": 2,
   "metadata": {},
   "outputs": [
    {
     "data": {
      "text/plain": [
       "dict_keys(['xs', 'ya_nnvi', 'yb_nnvi', 'ya_ibp', 'yb_ibp'])"
      ]
     },
     "execution_count": 2,
     "metadata": {},
     "output_type": "execute_result"
    }
   ],
   "source": [
    "with open('results/weight_pruning_hibp_runs5.pkl', 'rb') as input_file:\n",
    "    d = pickle.load(input_file)\n",
    "d.keys()"
   ]
  },
  {
   "cell_type": "code",
   "execution_count": 3,
   "metadata": {},
   "outputs": [],
   "source": [
    "xs = d['xs']\n",
    "ya = d['ya_nnvi']\n",
    "yb = d['yb_nnvi']\n",
    "ya_hibp = d['ya_ibp']\n",
    "yb_hibp = d['yb_ibp']"
   ]
  },
  {
   "cell_type": "code",
   "execution_count": 10,
   "metadata": {},
   "outputs": [
    {
     "data": {
      "text/plain": [
       "0.0006566527059295692"
      ]
     },
     "execution_count": 10,
     "metadata": {},
     "output_type": "execute_result"
    }
   ],
   "source": [
    "np.std(ya[:,0])"
   ]
  },
  {
   "cell_type": "code",
   "execution_count": null,
   "metadata": {},
   "outputs": [],
   "source": []
  },
  {
   "cell_type": "code",
   "execution_count": 5,
   "metadata": {},
   "outputs": [
    {
     "data": {
      "image/png": "[encoded data removed]",
      "text/plain": [
       "<Figure size 432x360 with 1 Axes>"
      ]
     },
     "metadata": {
      "needs_background": "light"
     },
     "output_type": "display_data"
    }
   ],
   "source": [
    "_hibp_ya_mean = np.mean(ya_hibp, axis=0)\n",
    "_hibp_ya_std = np.std(ya_hibp, axis=0)\n",
    "_hibp_yb_mean = np.mean(yb_hibp, axis=0)\n",
    "_hibp_yb_std = np.std(yb_hibp, axis=0)\n",
    "_ya_mean = np.mean(ya, axis=0)\n",
    "_ya_std = np.std(ya, axis=0)\n",
    "_yb_mean = np.mean(yb, axis=0)\n",
    "_yb_std = np.std(yb, axis=0)\n",
    "\n",
    "def test_error(ls):\n",
    "    return 100*(1-np.array(ls))\n",
    "\n",
    "fig_size = (6, 5)\n",
    "\n",
    "set_y_axis = False\n",
    "\n",
    "lw = 2\n",
    "\n",
    "grid_color = '0.1'\n",
    "grid_lw = 0.2\n",
    "\n",
    "title_size = 16\n",
    "label_size = 22\n",
    "tick_size = 20\n",
    "legend_size = 22\n",
    "\n",
    "fig, ax = plt.subplots(1, 1, figsize=fig_size)\n",
    "\n",
    "ax.plot(xs, test_error(_hibp_ya_mean), linewidth=lw, color='b')\n",
    "ax.fill_between(xs,\n",
    "               test_error([x - y for x, y in zip(_hibp_ya_mean, _hibp_ya_std)]),\n",
    "               test_error([x + y for x, y in zip(_hibp_ya_mean, _hibp_ya_std)]),\n",
    "               alpha=0.3, color='b')\n",
    "\n",
    "ax.plot(xs, test_error(_hibp_yb_mean), linewidth=lw, color='g')\n",
    "ax.fill_between(xs,\n",
    "               test_error([x - y for x, y in zip(_hibp_yb_mean, _hibp_yb_std)]),\n",
    "               test_error([x + y for x, y in zip(_hibp_yb_mean, _hibp_yb_std)]),\n",
    "               alpha=0.3, color='g')\n",
    "\n",
    "ax.plot(xs, test_error(_ya_mean), linewidth=lw, color='r')\n",
    "ax.fill_between(xs,\n",
    "               test_error([x - y for x, y in zip(_ya_mean, _ya_std)]),\n",
    "               test_error([x + y for x, y in zip(_ya_mean, _ya_std)]),\n",
    "               alpha=0.3, color='r')\n",
    "\n",
    "ax.plot(xs, test_error(_yb_mean), linewidth=lw, color='c')\n",
    "ax.fill_between(xs,\n",
    "               test_error([x - y for x, y in zip(_yb_mean, _yb_std)]),\n",
    "               test_error([x + y for x, y in zip(_yb_mean, _yb_std)]),\n",
    "               alpha=0.3, color='c')\n",
    "\n",
    "plt.grid(True, which=\"both\", color=grid_color, linewidth=0.1, alpha=0.1)\n",
    "ax.set_xlim(0.0, 0.5)\n",
    "plt.yticks(fontsize=tick_size)\n",
    "x_ticks = np.arange(0.0, 1.5, step=0.5)\n",
    "plt.xticks(x_ticks, fontsize=tick_size)\n",
    "plt.ticklabel_format(axis='y')\n",
    "ax = fig.gca()\n",
    "ax.ticklabel_format(axis='y', style='sci', scilimits=(-1, 1))\n",
    "#ax.set_yticklabels([])\n",
    "#plt.yscale('log')\n",
    "plt.legend([\"H-IBP $|\\mu|$\", 'H-IBP snr', '$|\\mu|$', 'snr'], fontsize=legend_size, loc='upper left')\n",
    "plt.tight_layout()\n",
    "plt.xlabel(\"Cut off\", fontsize=legend_size)\n",
    "plt.ylabel(\"Test error\", fontsize=legend_size)\n",
    "plt.xlim(0.4, 1.0)\n",
    "#plt.savefig(\"plots/weight_pruning_new_hibp_x5.pdf\", bbox_inches='tight')\n",
    "plt.show()"
   ]
  },
  {
   "cell_type": "markdown",
   "metadata": {},
   "source": [
    "# Z matrix"
   ]
  },
  {
   "cell_type": "code",
   "execution_count": null,
   "metadata": {},
   "outputs": [],
   "source": [
    "# graph_hibp_wp_hibp_wp_lr_run0\n",
    "hidden_size = [200, 200]\n",
    "batch_size = 512\n",
    "no_epochs = 200\n",
    "\n",
    "tf.set_random_seed(12)\n",
    "np.random.seed(1)\n",
    "\n",
    "ibp_acc = np.array([])\n",
    "Zs = []\n",
    "coreset_size = 0\n",
    "data_gen = MnistGenerator()\n",
    "single_head=False\n",
    "in_dim, out_dim = data_gen.get_dims()\n",
    "x_testsets, y_testsets = [], []\n",
    "task_id=0\n",
    "runs=5\n",
    "tag = 'hibp'\n",
    "for run in range(runs):\n",
    "    name='ibp_wp_{0}_run{1}'.format(tag, run)\n",
    "\n",
    "    tf.reset_default_graph()  \n",
    "    x_train, y_train, x_test, y_test = data_gen.task()\n",
    "\n",
    "    # Set the readout head to train\n",
    "    head = 0 if single_head else task_id\n",
    "    bsize = x_train.shape[0] if (batch_size is None) else batch_size\n",
    "\n",
    "    # Train network with maximum likelihood to initialize first model\n",
    "    if task_id == 0:\n",
    "        ml_model = Vanilla_NN(in_dim, hidden_size, out_dim, x_train.shape[0])\n",
    "        ml_model.train(x_train, y_train, task_id, 10, bsize)\n",
    "        mf_weights = ml_model.get_weights()\n",
    "        mf_variances = None\n",
    "        mf_betas = None\n",
    "        ml_model.close_session()\n",
    "\n",
    "    # Train on non-coreset data\n",
    "    model = HIBP_BNN(alphas=[1.]*len(hidden_size), \n",
    "                           input_size=in_dim, \n",
    "                           hidden_size=hidden_size, \n",
    "                           output_size=out_dim, \n",
    "                           training_size=x_train.shape[0], \n",
    "                           no_pred_samples=100,\n",
    "                           num_ibp_samples=10, prev_means=mf_weights, \n",
    "                           prev_log_variances=mf_variances, \n",
    "                           prev_betas=mf_betas,\n",
    "                           learning_rate=0.001, learning_rate_decay=0.87,\n",
    "                           prior_mean=0.0, prior_var=0.1,\n",
    "                           alpha0=5.0, beta0=1.0,\n",
    "                           lambda_1=1.0, lambda_2=1.0,\n",
    "                           tensorboard_dir='logs_wp',\n",
    "                           name='hibp_wp_hibp_wp_lr_run{0}'.format(run),\n",
    "                           use_local_reparam=True, implicit_beta=True)\n",
    "\n",
    "    model.create_model()\n",
    "    model.restore(os.path.join(\"logs_wp\", 'graph_{0}'.format('hibp_wp_hibp_wp_lr_run{0}').format(run)))\n",
    "#     xs, ya, yb = model.prune_weights(x_test, y_test, head)\n",
    "#     ya_all[run, :] = ya\n",
    "#     yb_all[run, :] = yb\n",
    "\n",
    "    Zs.append(model.sess.run(model.Z, feed_dict={model.x: x_test, model.task_idx: task_id, model.training: False}))\n",
    "\n",
    "    model.close_session()"
   ]
  },
  {
   "cell_type": "code",
   "execution_count": 7,
   "metadata": {},
   "outputs": [
    {
     "data": {
      "text/plain": [
       "5"
      ]
     },
     "execution_count": 7,
     "metadata": {},
     "output_type": "execute_result"
    }
   ],
   "source": [
    "len(Zs)"
   ]
  },
  {
   "cell_type": "code",
   "execution_count": 15,
   "metadata": {},
   "outputs": [
    {
     "data": {
      "text/plain": [
       "(1, 10000, 200)"
      ]
     },
     "execution_count": 15,
     "metadata": {},
     "output_type": "execute_result"
    }
   ],
   "source": [
    "Zs[0][0].shape"
   ]
  },
  {
   "cell_type": "code",
   "execution_count": 16,
   "metadata": {},
   "outputs": [],
   "source": [
    "num_layers=2\n",
    "num_tasks=1\n",
    "num_runs=5\n",
    "_Z_hibp = []\n",
    "for j in range(num_tasks*num_layers):\n",
    "    tmp = []\n",
    "    for i in range(num_runs):\n",
    "        tmp.append(np.squeeze(Zs[i][j]))\n",
    "    _Z_hibp.append(tmp)"
   ]
  },
  {
   "cell_type": "code",
   "execution_count": 17,
   "metadata": {},
   "outputs": [
    {
     "data": {
      "text/plain": [
       "(50000, 200)"
      ]
     },
     "execution_count": 17,
     "metadata": {},
     "output_type": "execute_result"
    }
   ],
   "source": [
    "__Z_hibp = [np.concatenate(_Z_hibp[i], axis=0) for i in range(num_tasks*num_layers)]\n",
    "__Z_hibp[0].shape"
   ]
  },
  {
   "cell_type": "code",
   "execution_count": 18,
   "metadata": {},
   "outputs": [
    {
     "data": {
      "text/plain": [
       "2"
      ]
     },
     "execution_count": 18,
     "metadata": {},
     "output_type": "execute_result"
    }
   ],
   "source": [
    "len(_Z_hibp)"
   ]
  },
  {
   "cell_type": "code",
   "execution_count": 21,
   "metadata": {},
   "outputs": [
    {
     "name": "stdout",
     "output_type": "stream",
     "text": [
      "Epoch: 0001 cost= 0.280326372\n",
      "Epoch: 0006 cost= 0.028386525\n",
      "Z: (1, ?, 200)\n",
      "Z: (1, ?, 200)\n",
      "INFO:tensorflow:Restoring parameters from logs_wp/graph_ibp_wp_ibp_l2_wp_n_run0/model.ckpt\n",
      "Epoch: 0001 cost= 0.279246731\n",
      "Epoch: 0006 cost= 0.027772299\n",
      "Z: (1, ?, 200)\n",
      "Z: (1, ?, 200)\n",
      "INFO:tensorflow:Restoring parameters from logs_wp/graph_ibp_wp_ibp_l2_wp_n_run1/model.ckpt\n",
      "Epoch: 0001 cost= 0.281405082\n",
      "Epoch: 0006 cost= 0.026062425\n",
      "Z: (1, ?, 200)\n",
      "Z: (1, ?, 200)\n",
      "INFO:tensorflow:Restoring parameters from logs_wp/graph_ibp_wp_ibp_l2_wp_n_run2/model.ckpt\n",
      "Epoch: 0001 cost= 0.279183709\n",
      "Epoch: 0006 cost= 0.027951502\n",
      "Z: (1, ?, 200)\n",
      "Z: (1, ?, 200)\n",
      "INFO:tensorflow:Restoring parameters from logs_wp/graph_ibp_wp_ibp_l2_wp_n_run3/model.ckpt\n",
      "Epoch: 0001 cost= 0.290161883\n",
      "Epoch: 0006 cost= 0.029862621\n",
      "Z: (1, ?, 200)\n",
      "Z: (1, ?, 200)\n",
      "INFO:tensorflow:Restoring parameters from logs_wp/graph_ibp_wp_ibp_l2_wp_n_run4/model.ckpt\n"
     ]
    }
   ],
   "source": [
    "hidden_size = [200, 200]\n",
    "batch_size = 128\n",
    "no_epochs = 100\n",
    "Zs_ibp = []\n",
    "tf.set_random_seed(12)\n",
    "np.random.seed(1)\n",
    "\n",
    "for run in range(runs):\n",
    "    data_gen = MnistGenerator()\n",
    "    single_head=True\n",
    "    in_dim, out_dim = data_gen.get_dims()\n",
    "    task_id=0\n",
    "\n",
    "    tf.reset_default_graph()\n",
    "    x_train, y_train, x_test, y_test = data_gen.task()\n",
    "\n",
    "    tag = 'ibp_l2_wp_n'\n",
    "    name='ibp_wp_{0}_run{1}'.format(tag, run)\n",
    "\n",
    "    # Set the readout head to train\n",
    "    head = 0 if single_head else task_id\n",
    "    bsize = x_train.shape[0] if (batch_size is None) else batch_size\n",
    "\n",
    "    # Train network with maximum likelihood to initialize first model\n",
    "    if task_id == 0:\n",
    "        ml_model = Vanilla_NN(in_dim, hidden_size, out_dim, x_train.shape[0])\n",
    "        ml_model.train(x_train, y_train, task_id, 10, bsize)\n",
    "        mf_weights = ml_model.get_weights()\n",
    "        mf_variances = None\n",
    "        mf_betas = None\n",
    "        ml_model.close_session()\n",
    "\n",
    "    # Train on non-coreset data\n",
    "    model = IBP_BNN(input_size=in_dim, \n",
    "                               hidden_size=hidden_size, \n",
    "                               output_size=out_dim, \n",
    "                               training_size=x_train.shape[0], \n",
    "                               no_pred_samples=100,\n",
    "                               num_ibp_samples=10, prev_means=mf_weights, \n",
    "                               prev_log_variances=mf_variances, \n",
    "                               prev_betas=mf_betas,\n",
    "                               learning_rate=0.001, learning_rate_decay=0.87,\n",
    "                               prior_mean=0.0, prior_var=0.1,\n",
    "                               alpha0=5.0, beta0=1.0,\n",
    "                               lambda_1=1.0, lambda_2=1.0,\n",
    "                               tensorboard_dir='logs_wp',\n",
    "                               name=name,\n",
    "                               use_local_reparam=True, implicit_beta=True)\n",
    "\n",
    "    model.create_model()\n",
    "    model.restore(model.log_folder)\n",
    "\n",
    "    Zs_ibp.append(model.sess.run(model.Z, feed_dict={model.x: x_test, model.task_idx: task_id,\n",
    "                                                     model.training: False}))\n",
    "\n",
    "    model.close_session()"
   ]
  },
  {
   "cell_type": "code",
   "execution_count": 22,
   "metadata": {},
   "outputs": [
    {
     "data": {
      "text/plain": [
       "5"
      ]
     },
     "execution_count": 22,
     "metadata": {},
     "output_type": "execute_result"
    }
   ],
   "source": [
    "len(Zs_ibp)"
   ]
  },
  {
   "cell_type": "code",
   "execution_count": 23,
   "metadata": {},
   "outputs": [
    {
     "data": {
      "text/plain": [
       "(1, 10000, 200)"
      ]
     },
     "execution_count": 23,
     "metadata": {},
     "output_type": "execute_result"
    }
   ],
   "source": [
    "Zs_ibp[0][0].shape"
   ]
  },
  {
   "cell_type": "code",
   "execution_count": 24,
   "metadata": {},
   "outputs": [],
   "source": [
    "num_layers=2\n",
    "num_tasks=1\n",
    "num_runs=5\n",
    "_Z_ibp = []\n",
    "for j in range(num_tasks*num_layers):\n",
    "    tmp = []\n",
    "    for i in range(num_runs):\n",
    "        tmp.append(np.squeeze(Zs_ibp[i][j]))\n",
    "    _Z_ibp.append(tmp)"
   ]
  },
  {
   "cell_type": "code",
   "execution_count": 25,
   "metadata": {},
   "outputs": [
    {
     "data": {
      "text/plain": [
       "(50000, 200)"
      ]
     },
     "execution_count": 25,
     "metadata": {},
     "output_type": "execute_result"
    }
   ],
   "source": [
    "__Z_ibp = [np.concatenate(_Z_ibp[i], axis=0) for i in range(num_tasks*num_layers)]\n",
    "__Z_ibp[0].shape"
   ]
  },
  {
   "cell_type": "code",
   "execution_count": 26,
   "metadata": {},
   "outputs": [
    {
     "data": {
      "text/plain": [
       "2"
      ]
     },
     "execution_count": 26,
     "metadata": {},
     "output_type": "execute_result"
    }
   ],
   "source": [
    "len(__Z_ibp)"
   ]
  },
  {
   "cell_type": "code",
   "execution_count": 27,
   "metadata": {},
   "outputs": [],
   "source": [
    "##### Box plot params\n",
    "\n",
    "grid_color = '0.1'\n",
    "grid_lw = 0.2\n",
    "\n",
    "title_size = 16\n",
    "label_size = 16\n",
    "tick_size = 14\n",
    "legend_size = 16\n",
    "\n",
    "num_layers = 2\n",
    "ticks = ['H-IBP', 'IBP']\n",
    "fig_size=(4, 3)\n",
    "\n",
    "def set_box_pairs(bp):\n",
    "    plt.setp(bp['boxes'], color='black', lw=1.5)\n",
    "    plt.setp(bp['whiskers'], color='black', lw=1.5)\n",
    "    \n",
    "    \n",
    "    plt.setp(bp['caps'][0], color='#D7191C', lw=2)\n",
    "    plt.setp(bp['caps'][1], color='#D7191C', lw=2)\n",
    "    plt.setp(bp['caps'][2], color='#2C7BB6', lw=2)\n",
    "    plt.setp(bp['caps'][3], color='#2C7BB6', lw=2)\n",
    "    plt.setp(bp['medians'][0], color='#D7191C', lw=2)\n",
    "    plt.setp(bp['medians'][1], color='#2C7BB6', lw=2)"
   ]
  },
  {
   "cell_type": "code",
   "execution_count": 53,
   "metadata": {},
   "outputs": [
    {
     "data": {
      "image/png": "[encoded data removed]",
      "text/plain": [
       "<Figure size 288x216 with 1 Axes>"
      ]
     },
     "metadata": {
      "needs_background": "light"
     },
     "output_type": "display_data"
    }
   ],
   "source": [
    "num_layers = 2\n",
    "plt.figure(figsize=fig_size)\n",
    "bpl = plt.boxplot([np.sum(np.asarray(np.squeeze(__Z_hibp[i] > 0.1)).astype(int), axis=1).reshape(-1) for i in range(num_layers)],\n",
    "                  positions=[-0.4, 0.4], sym='', widths=0.6)\n",
    "bpr = plt.boxplot([np.sum(np.asarray(np.squeeze(__Z_ibp[i] > 0.1)).astype(int), axis=1).reshape(-1) for i in range(num_layers)],\n",
    "                  positions=[2. - 0.4, 2. + 0.4], sym='', widths=0.6)\n",
    "set_box_pairs(bpl) # colors are from http://colorbrewer2.org/\n",
    "set_box_pairs(bpr)\n",
    "\n",
    "# draw temporary red and blue lines and use them to create a legend\n",
    "hb, = plt.plot([], '#D7191C')\n",
    "hr, = plt.plot([], '#2C7BB6')\n",
    "plt.legend((hb, hr), ('Layer 1', 'Layer 2'), loc='lower left')\n",
    "hb.set_visible(False)\n",
    "hr.set_visible(False)\n",
    "\n",
    "plt.grid(True, which=\"both\", color=grid_color, linewidth=0.1, alpha=0.1)\n",
    "plt.xticks(range(0, len(ticks) * 2, 2), ticks, fontsize=tick_size)\n",
    "plt.yticks(fontsize=tick_size)\n",
    "plt.xlim(-1, len(ticks)*2 - 1)\n",
    "plt.ylim(19, 35)\n",
    "plt.ylabel('# neurons', fontsize=legend_size)\n",
    "#plt.xlabel('Layer', fontsize=label_size)\n",
    "plt.tight_layout()\n",
    "plt.savefig('plots/Zs_mnist_ibp_vs_hibp.pdf', bbox_inches='tight')\n",
    "plt.show()"
   ]
  },
  {
   "cell_type": "code",
   "execution_count": null,
   "metadata": {},
   "outputs": [],
   "source": [
    "np.squeeze(Z[0]).shape"
   ]
  },
  {
   "cell_type": "code",
   "execution_count": null,
   "metadata": {},
   "outputs": [],
   "source": [
    "set_y_axis = False\n",
    "\n",
    "lw = 2\n",
    "\n",
    "grid_color = '0.1'\n",
    "grid_lw = 0.2\n",
    "\n",
    "title_size = 22\n",
    "label_size = 22\n",
    "tick_size = 20\n",
    "legend_size = 22\n",
    "fig_size=(6, 5)\n",
    "\n",
    "fig, ax = plt.subplots(1, 1, figsize=fig_size)\n",
    "\n",
    "imgplot = ax.imshow(Z[0][0, :50,:60], cmap=plt.cm.Greys, vmin=0, vmax=1)\n",
    "x_ticks = np.arange(0.0, 100, step=50)\n",
    "plt.xticks(x_ticks, fontsize=tick_size)\n",
    "plt.xlabel('$k$', fontsize=legend_size)\n",
    "plt.yticks([], [])\n",
    "#cbar_ax = fig.add_axes([0.95, 0.21, 0.05, 0.59])\n",
    "#fig.colorbar(imgplot, cax=cbar_ax)\n",
    "#cbar_ax.tick_params(labelsize=legend_size) \n",
    "plt.savefig('plots/hibp_weight_pruning_Z1.pdf', bbox_inches='tight')\n",
    "fig.show()"
   ]
  },
  {
   "cell_type": "code",
   "execution_count": null,
   "metadata": {},
   "outputs": [],
   "source": [
    "set_y_axis = False\n",
    "\n",
    "lw = 2\n",
    "\n",
    "grid_color = '0.1'\n",
    "grid_lw = 0.2\n",
    "\n",
    "title_size = 22\n",
    "label_size = 22\n",
    "tick_size = 20\n",
    "legend_size = 22\n",
    "\n",
    "fig, ax = plt.subplots(1, 1, figsize=fig_size)\n",
    "\n",
    "imgplot = ax.imshow(Z[1][0, :50,:60], cmap=plt.cm.Greys, vmin=0, vmax=1)\n",
    "x_ticks = np.arange(0.0, 100, step=50)\n",
    "plt.xticks(x_ticks, fontsize=tick_size)\n",
    "plt.xlabel('$k$', fontsize=legend_size)\n",
    "plt.yticks([], [])\n",
    "cbar_ax = fig.add_axes([0.95, 0.13, 0.05, 0.75])\n",
    "fig.colorbar(imgplot, cax=cbar_ax)\n",
    "cbar_ax.tick_params(labelsize=legend_size) \n",
    "plt.savefig('plots/hibp_weight_pruning_Z2.pdf', bbox_inches='tight')\n",
    "fig.show()"
   ]
  },
  {
   "cell_type": "code",
   "execution_count": null,
   "metadata": {},
   "outputs": [],
   "source": [
    "set_y_axis = False\n",
    "\n",
    "lw = 2\n",
    "\n",
    "grid_color = '0.1'\n",
    "grid_lw = 0.2\n",
    "\n",
    "title_size = 22\n",
    "label_size = 22\n",
    "tick_size = 20\n",
    "legend_size = 22\n",
    "\n",
    "# fig, ax = plt.subplots(1, 1)\n",
    "\n",
    "# imgplot = ax.imshow(np.squeeze(Z[0])[:50,:100], cmap=plt.cm.Greys, vmin=0, vmax=1)\n",
    "# x_ticks = np.arange(0.0, 100, step=50)\n",
    "# plt.xticks(x_ticks, fontsize=tick_size)\n",
    "# plt.xlabel('$k$', fontsize=legend_size)\n",
    "# plt.yticks([], [])\n",
    "# cbar_ax = fig.add_axes([0.95, 0.21, 0.05, 0.59])\n",
    "# fig.colorbar(imgplot, cax=cbar_ax)\n",
    "# cbar_ax.tick_params(labelsize=legend_size) \n",
    "# plt.savefig('plots/weight_pruning_Z.pdf', bbox_inches='tight')\n",
    "# fig.show()\n",
    "\n",
    "fig, ax = plt.subplots(2, 1, figsize=(4, 4))\n",
    "for i in range(2):\n",
    "    imgplot = ax[i].imshow(Z[i][0, :20, :60], cmap=plt.cm.Greys, vmin=0, vmax=1)\n",
    "    ax[0].set_xticks(np.arange(0.0, 100, step=50))\n",
    "    ax[0].set_xticklabels([], fontsize=tick_size)\n",
    "    ax[i].set_yticks([], [])\n",
    "    ax[i].set_yticklabels([], fontsize=tick_size)\n",
    "    if i == 1:\n",
    "        ax[i].set_xlabel('$k$', fontsize=legend_size)\n",
    "        ax[i].set_xticklabels(np.arange(0, 100, step=50), fontsize=tick_size)\n",
    "        ax[i].set_xticks(np.arange(0.0, 100, step=50))\n",
    "        #ax[i].set_yticklabels([])\n",
    "        cbar_ax = fig.add_axes([1.0, 0.22, 0.05, 0.69])\n",
    "        fig.colorbar(imgplot, cax=cbar_ax, ticks = [0.0, 0.5, 1.0])\n",
    "        cbar_ax.tick_params(labelsize=legend_size) \n",
    "        # Add colorbar, make sure to specify tick locations to match desired ticklabels\n",
    "fig.tight_layout()\n",
    "plt.savefig('plots/hibp_weight_pruning_Zs.pdf', bbox_inches='tight')\n",
    "fig.show()"
   ]
  },
  {
   "cell_type": "markdown",
   "metadata": {},
   "source": [
    "# IBP "
   ]
  },
  {
   "cell_type": "code",
   "execution_count": 55,
   "metadata": {},
   "outputs": [
    {
     "data": {
      "text/plain": [
       "dict_keys(['xs', 'ya_ibp', 'yb_ibp'])"
      ]
     },
     "execution_count": 55,
     "metadata": {},
     "output_type": "execute_result"
    }
   ],
   "source": [
    "# weight_pruning_runs5_ibp_l2_wp_n.pkl\n",
    "with open('results/weight_pruning_ibp_new_xs.pkl', 'rb') as input_file:\n",
    "    d = pickle.load(input_file)\n",
    "d.keys()"
   ]
  },
  {
   "cell_type": "code",
   "execution_count": 56,
   "metadata": {},
   "outputs": [],
   "source": [
    "xs_ibp = d['xs']\n",
    "ya_ibp = d['ya_ibp']\n",
    "yb_ibp = d['yb_ibp']"
   ]
  },
  {
   "cell_type": "code",
   "execution_count": 57,
   "metadata": {},
   "outputs": [
    {
     "data": {
      "text/plain": [
       "0.0011919769128238837"
      ]
     },
     "execution_count": 57,
     "metadata": {},
     "output_type": "execute_result"
    }
   ],
   "source": [
    "np.std(ya_ibp[:,0])"
   ]
  },
  {
   "cell_type": "code",
   "execution_count": 58,
   "metadata": {},
   "outputs": [
    {
     "data": {
      "text/plain": [
       "dict_keys(['xs', 'ya_ibp', 'yb_ibp'])"
      ]
     },
     "execution_count": 58,
     "metadata": {},
     "output_type": "execute_result"
    }
   ],
   "source": [
    "# weight_pruning_runs5_ibp_l2_wp_n.pkl\n",
    "with open('results/weight_pruning_hibp_new_xs.pkl', 'rb') as input_file:\n",
    "    d = pickle.load(input_file)\n",
    "d.keys()"
   ]
  },
  {
   "cell_type": "code",
   "execution_count": 59,
   "metadata": {},
   "outputs": [],
   "source": [
    "xs_hibp = d['xs']\n",
    "ya_hibp = d['ya_ibp']\n",
    "yb_hibp = d['yb_ibp']"
   ]
  },
  {
   "cell_type": "code",
   "execution_count": 62,
   "metadata": {},
   "outputs": [
    {
     "data": {
      "image/png": "[encoded data removed]",
      "text/plain": [
       "<Figure size 432x360 with 1 Axes>"
      ]
     },
     "metadata": {
      "needs_background": "light"
     },
     "output_type": "display_data"
    }
   ],
   "source": [
    "_ibp_ya_mean = np.mean(ya_ibp, axis=0)\n",
    "_ibp_ya_std = np.std(ya_ibp, axis=0)\n",
    "_ibp_yb_mean = np.mean(yb_ibp, axis=0)\n",
    "_ibp_yb_std = np.std(yb_ibp, axis=0)\n",
    "_hibp_ya_mean = np.mean(ya_hibp, axis=0)\n",
    "_hibp_ya_std = np.std(ya_hibp, axis=0)\n",
    "_hibp_yb_mean = np.mean(yb_hibp, axis=0)\n",
    "_hibp_yb_std = np.std(yb_hibp, axis=0)\n",
    "\n",
    "def test_error(ls):\n",
    "    return 100*(1-np.array(ls))\n",
    "\n",
    "fig_size = (6, 5)\n",
    "\n",
    "set_y_axis = False\n",
    "\n",
    "lw = 2\n",
    "\n",
    "grid_color = '0.1'\n",
    "grid_lw = 0.2\n",
    "\n",
    "title_size = 16\n",
    "label_size = 22\n",
    "tick_size = 20\n",
    "legend_size = 22\n",
    "\n",
    "fig, ax = plt.subplots(1, 1, figsize=fig_size)\n",
    "\n",
    "ax.plot(xs_ibp, test_error(_ibp_ya_mean), linewidth=lw, color='b')\n",
    "ax.fill_between(xs_ibp,\n",
    "               test_error([x - y for x, y in zip(_ibp_ya_mean, _ibp_ya_std)]),\n",
    "               test_error([x + y for x, y in zip(_ibp_ya_mean, _ibp_ya_std)]),\n",
    "               alpha=0.2, color='b')\n",
    "\n",
    "ax.plot(xs_ibp, test_error(_ibp_yb_mean), linewidth=lw, color='r')\n",
    "ax.fill_between(xs_ibp,\n",
    "               test_error([x - y for x, y in zip(_ibp_yb_mean, _ibp_yb_std)]),\n",
    "               test_error([x + y for x, y in zip(_ibp_yb_mean, _ibp_yb_std)]),\n",
    "               alpha=0.2, color='r')\n",
    "\n",
    "ax.plot(xs_hibp, test_error(_hibp_ya_mean), linewidth=lw, color='g')\n",
    "ax.fill_between(xs_hibp,\n",
    "               test_error([x - y for x, y in zip(_hibp_ya_mean, _hibp_ya_std)]),\n",
    "               test_error([x + y for x, y in zip(_hibp_ya_mean, _hibp_ya_std)]),\n",
    "               alpha=0.2, color='g')\n",
    "\n",
    "ax.plot(xs_hibp, test_error(_hibp_yb_mean), linewidth=lw, color='c')\n",
    "ax.fill_between(xs_hibp,\n",
    "               test_error([x - y for x, y in zip(_hibp_yb_mean, _hibp_yb_std)]),\n",
    "               test_error([x + y for x, y in zip(_hibp_yb_mean, _hibp_yb_std)]),\n",
    "               alpha=0.2, color='c')\n",
    "\n",
    "plt.grid(True, which=\"both\", color=grid_color, linewidth=0.1, alpha=0.1)\n",
    "plt.yticks(fontsize=tick_size)\n",
    "x_ticks = np.arange(0.0, 1.5, step=0.02)\n",
    "plt.xticks(x_ticks, fontsize=tick_size)\n",
    "plt.ticklabel_format(axis='y', style='sci')\n",
    "ax = fig.gca()\n",
    "#ax.ticklabel_format(axis='y', style='sci', scilimits=(-1, 1))\n",
    "#ax.set_yticklabels([])\n",
    "#plt.yscale('log')\n",
    "#plt.legend([\"IBP $|\\mu|$\", 'IBP snr'], fontsize=legend_size, loc='top left')\n",
    "plt.legend([\"IBNN $|\\mu|$\", 'IBNN snr',\n",
    "           \"HIBNN $|\\mu|$\", 'HIBNN snr',], fontsize=legend_size, loc='upper left')\n",
    "plt.tight_layout()\n",
    "plt.xlabel(\"Cut off\", fontsize=legend_size)\n",
    "plt.ylabel(\"Test error\", fontsize=legend_size)\n",
    "plt.xlim(0.9, 1.0)\n",
    "plt.savefig(\"plots/weight_pruning_mnist_ibp_vs_hibp.pdf\", bbox_inches='tight')\n",
    "plt.show()"
   ]
  },
  {
   "cell_type": "code",
   "execution_count": null,
   "metadata": {},
   "outputs": [],
   "source": [
    "hidden_size = [200, 200]\n",
    "batch_size = 512\n",
    "no_epochs = 100\n",
    "\n",
    "tf.set_random_seed(12)\n",
    "np.random.seed(1)\n",
    "\n",
    "ibp_acc = np.array([])\n",
    "\n",
    "coreset_size = 0\n",
    "data_gen = MnistGenerator()\n",
    "single_head=False\n",
    "in_dim, out_dim = data_gen.get_dims()\n",
    "x_testsets, y_testsets = [], []\n",
    "task_id=0\n",
    "    \n",
    "tf.reset_default_graph()  \n",
    "x_train, y_train, x_test, y_test = data_gen.task()\n",
    "x_testsets.append(x_test)\n",
    "y_testsets.append(y_test)\n",
    "\n",
    "tag = 'ibp_l2_wp_n'\n",
    "run = 0\n",
    "name='ibp_wp_{0}_run{1}'.format(tag, run)\n",
    "\n",
    "# Set the readout head to train\n",
    "head = 0 if single_head else task_id\n",
    "bsize = x_train.shape[0] if (batch_size is None) else batch_size\n",
    "\n",
    "# Train network with maximum likelihood to initialize first model\n",
    "if task_id == 0:\n",
    "    ml_model = Vanilla_NN(in_dim, hidden_size, out_dim, x_train.shape[0])\n",
    "    ml_model.train(x_train, y_train, task_id, 100, bsize)\n",
    "    mf_weights = ml_model.get_weights()\n",
    "    mf_variances = None\n",
    "    mf_betas = None\n",
    "    ml_model.close_session()\n",
    "\n",
    "# Train on non-coreset data\n",
    "model = IBP_BNN(input_size=in_dim, \n",
    "                           hidden_size=hidden_size, \n",
    "                           output_size=out_dim, \n",
    "                           training_size=x_train.shape[0], \n",
    "                           no_pred_samples=100,\n",
    "                           num_ibp_samples=10, prev_means=mf_weights, \n",
    "                           prev_log_variances=mf_variances, \n",
    "                           prev_betas=mf_betas,\n",
    "                           learning_rate=0.001, learning_rate_decay=0.87,\n",
    "                           prior_mean=0.0, prior_var=0.1,\n",
    "                           alpha0=5.0, beta0=1.0,\n",
    "                           lambda_1=1.0, lambda_2=1.0,\n",
    "                           tensorboard_dir='logs_wp',\n",
    "                           name=name,\n",
    "                           use_local_reparam=True, implicit_beta=True)\n",
    "\n",
    "model.create_model()\n",
    "model.restore(model.log_folder)\n",
    "\n",
    "Z_ibp = model.sess.run(model.Z, feed_dict={model.x: x_test, model.task_idx: task_id, model.training: False})\n",
    "\n",
    "model.close_session()"
   ]
  },
  {
   "cell_type": "code",
   "execution_count": null,
   "metadata": {},
   "outputs": [],
   "source": [
    "np.mean(np.squeeze(Z_ibp[0]), 1).shape"
   ]
  },
  {
   "cell_type": "code",
   "execution_count": null,
   "metadata": {},
   "outputs": [],
   "source": [
    "##### Box plot params\n",
    "\n",
    "grid_color = '0.1'\n",
    "grid_lw = 0.2\n",
    "\n",
    "title_size = 16\n",
    "label_size = 16\n",
    "tick_size = 14\n",
    "legend_size = 16\n",
    "\n",
    "num_layers = 2\n",
    "ticks = ['H-IBP', 'IBP']\n",
    "fig_size=(4, 3)\n",
    "\n",
    "def set_box_pairs(bp):\n",
    "    plt.setp(bp['boxes'], color='black', lw=1.5)\n",
    "    plt.setp(bp['whiskers'], color='black', lw=1.5)\n",
    "    \n",
    "    \n",
    "    plt.setp(bp['caps'][0], color='#D7191C', lw=2)\n",
    "    plt.setp(bp['caps'][1], color='#D7191C', lw=2)\n",
    "    plt.setp(bp['caps'][2], color='#2C7BB6', lw=2)\n",
    "    plt.setp(bp['caps'][3], color='#2C7BB6', lw=2)\n",
    "    plt.setp(bp['medians'][0], color='#D7191C', lw=2)\n",
    "    plt.setp(bp['medians'][1], color='#2C7BB6', lw=2)"
   ]
  },
  {
   "cell_type": "code",
   "execution_count": null,
   "metadata": {},
   "outputs": [],
   "source": [
    "num_layers = 2\n",
    "plt.figure(figsize=fig_size)\n",
    "bpl = plt.boxplot([np.sum(np.asarray(np.squeeze(Z[i] > 0.1)).astype(int), axis=1).reshape(-1) for i in range(num_layers)],\n",
    "                  positions=[-0.4, 0.4], sym='', widths=0.6)\n",
    "bpr = plt.boxplot([np.sum(np.asarray(np.squeeze(Z_ibp[i] > 0.1)).astype(int), axis=1).reshape(-1) for i in range(num_layers)],\n",
    "                  positions=[2. - 0.4, 2. + 0.4], sym='', widths=0.6)\n",
    "set_box_pairs(bpl) # colors are from http://colorbrewer2.org/\n",
    "set_box_pairs(bpr)\n",
    "\n",
    "# draw temporary red and blue lines and use them to create a legend\n",
    "hb, = plt.plot([], '#D7191C')\n",
    "hr, = plt.plot([], '#2C7BB6')\n",
    "plt.legend((hb, hr), ('Layer 1', 'Layer 2'))\n",
    "hb.set_visible(False)\n",
    "hr.set_visible(False)\n",
    "\n",
    "plt.grid(True, which=\"both\", color=grid_color, linewidth=0.1, alpha=0.1)\n",
    "plt.xticks(range(0, len(ticks) * 2, 2), ticks, fontsize=tick_size)\n",
    "plt.yticks(fontsize=tick_size)\n",
    "plt.xlim(-1, len(ticks)*2 - 1)\n",
    "#plt.xlabel('Layer', fontsize=label_size)\n",
    "plt.tight_layout()\n",
    "plt.savefig('plots/Zs_mnist_ibp_vs_hibp.pdf', bbox_inches='tight')\n",
    "plt.show()"
   ]
  },
  {
   "cell_type": "markdown",
   "metadata": {},
   "source": [
    "# Sparse Variational Dropout"
   ]
  },
  {
   "cell_type": "code",
   "execution_count": 63,
   "metadata": {},
   "outputs": [
    {
     "data": {
      "text/plain": [
       "dict_keys(['xs', 'ya', 'yb'])"
      ]
     },
     "execution_count": 63,
     "metadata": {},
     "output_type": "execute_result"
    }
   ],
   "source": [
    "# import pick file\n",
    "with open('sparse_vd/weight_pruning_svd.pkl', 'rb') as input_file:\n",
    "    d_svd = pickle.load(input_file)\n",
    "d_svd.keys()"
   ]
  },
  {
   "cell_type": "code",
   "execution_count": 64,
   "metadata": {},
   "outputs": [
    {
     "data": {
      "text/plain": [
       "0.9836"
      ]
     },
     "execution_count": 64,
     "metadata": {},
     "output_type": "execute_result"
    }
   ],
   "source": [
    "np.mean(d_svd['yb'][:,0])"
   ]
  },
  {
   "cell_type": "code",
   "execution_count": 65,
   "metadata": {},
   "outputs": [
    {
     "data": {
      "text/plain": [
       "dict_keys(['xs', 'ya_ibp', 'yb_ibp'])"
      ]
     },
     "execution_count": 65,
     "metadata": {},
     "output_type": "execute_result"
    }
   ],
   "source": [
    "with open('results/weight_pruning_hibp_new_xs.pkl', 'rb') as input_file:\n",
    "    d = pickle.load(input_file)\n",
    "d.keys()"
   ]
  },
  {
   "cell_type": "code",
   "execution_count": 66,
   "metadata": {},
   "outputs": [
    {
     "data": {
      "text/plain": [
       "0.0017043951950039208"
      ]
     },
     "execution_count": 66,
     "metadata": {},
     "output_type": "execute_result"
    }
   ],
   "source": [
    "np.std(d['yb_ibp'][:,0])"
   ]
  },
  {
   "cell_type": "code",
   "execution_count": 67,
   "metadata": {},
   "outputs": [
    {
     "data": {
      "image/png": "[encoded data removed]",
      "text/plain": [
       "<Figure size 432x360 with 1 Axes>"
      ]
     },
     "metadata": {
      "needs_background": "light"
     },
     "output_type": "display_data"
    }
   ],
   "source": [
    "svd_xs = d_svd['xs']\n",
    "svd_ya_mean = np.mean(d_svd['ya'], axis=0)\n",
    "svd_ya_std = np.std(d_svd['ya'], axis=0)\n",
    "svd_yb_mean = np.mean(d_svd['yb'], axis=0)\n",
    "svd_yb_std = np.std(d_svd['yb'], axis=0)\n",
    "hibp_xs = d['xs']\n",
    "hibp_ya_mean = np.mean(d['ya_ibp'], axis=0)\n",
    "hibp_ya_std = np.std(d['ya_ibp'], axis=0)\n",
    "hibp_yb_mean = np.mean(d['yb_ibp'], axis=0)\n",
    "hibp_yb_std = np.std(d['yb_ibp'], axis=0)\n",
    "\n",
    "def test_error(ls):\n",
    "    return 100*(1-np.array(ls))\n",
    "\n",
    "fig_size = (6, 5)\n",
    "\n",
    "set_y_axis = False\n",
    "\n",
    "lw = 2\n",
    "\n",
    "grid_color = '0.1'\n",
    "grid_lw = 0.2\n",
    "\n",
    "title_size = 16\n",
    "label_size = 22\n",
    "tick_size = 20\n",
    "legend_size = 22\n",
    "\n",
    "fig, ax = plt.subplots(1, 1, figsize=fig_size)\n",
    "\n",
    "ax.plot(hibp_xs, test_error(hibp_ya_mean), linewidth=lw, color='b')\n",
    "ax.fill_between(hibp_xs,\n",
    "               test_error([x - y for x, y in zip(hibp_ya_mean, hibp_ya_std)]),\n",
    "               test_error([x + y for x, y in zip(hibp_ya_mean, hibp_ya_std)]),\n",
    "               alpha=0.2, color='b')\n",
    "\n",
    "ax.plot(hibp_xs, test_error(hibp_yb_mean), linewidth=lw, color='r')\n",
    "ax.fill_between(hibp_xs,\n",
    "               test_error([x - y for x, y in zip(hibp_yb_mean, hibp_yb_std)]),\n",
    "               test_error([x + y for x, y in zip(hibp_yb_mean, hibp_yb_std)]),\n",
    "               alpha=0.2, color='r')\n",
    "\n",
    "ax.plot(svd_xs, test_error(svd_ya_mean), linewidth=lw, color='g')\n",
    "ax.fill_between(svd_xs,\n",
    "               test_error([x - y for x, y in zip(svd_ya_mean, svd_ya_std)]),\n",
    "               test_error([x + y for x, y in zip(svd_ya_mean, svd_ya_std)]),\n",
    "               alpha=0.2, color='g')\n",
    "\n",
    "ax.plot(svd_xs, test_error(svd_yb_mean), linewidth=lw, color='c')\n",
    "ax.fill_between(svd_xs,\n",
    "               test_error([x - y for x, y in zip(svd_yb_mean, svd_yb_std)]),\n",
    "               test_error([x + y for x, y in zip(svd_yb_mean, svd_yb_std)]),\n",
    "               alpha=0.2, color='c')\n",
    "\n",
    "plt.grid(True, which=\"both\", color=grid_color, linewidth=0.1, alpha=0.1)\n",
    "plt.yticks(fontsize=tick_size)\n",
    "x_ticks = np.arange(0.0, 1.5, step=0.02)\n",
    "plt.xticks(x_ticks, fontsize=tick_size)\n",
    "plt.ticklabel_format(axis='y', style='sci')\n",
    "ax = fig.gca()\n",
    "#ax.ticklabel_format(axis='y', style='sci', scilimits=(-1, 1))\n",
    "#ax.set_yticklabels([])\n",
    "#plt.yscale('log')\n",
    "#plt.legend([\"IBP $|\\mu|$\", 'IBP snr'], fontsize=legend_size, loc='top left')\n",
    "plt.legend([\"HIBNN $|\\mu|$\", 'HIBNN snr',\n",
    "           \"SVD $|\\mu|$\", 'SVD snr',], fontsize=legend_size, loc='upper left')\n",
    "plt.tight_layout()\n",
    "plt.xlabel(\"Cut off\", fontsize=legend_size)\n",
    "plt.ylabel(\"Test error\", fontsize=legend_size)\n",
    "plt.xlim(0.9, 1.0)\n",
    "plt.savefig(\"plots/weight_pruning_mnist_hibp_vs_svd.pdf\", bbox_inches='tight')\n",
    "plt.show()"
   ]
  },
  {
   "cell_type": "markdown",
   "metadata": {},
   "source": [
    "# Local reparam + improved MFVI"
   ]
  },
  {
   "cell_type": "code",
   "execution_count": 39,
   "metadata": {},
   "outputs": [
    {
     "data": {
      "text/plain": [
       "dict_keys(['xs', 'ya_nnvi', 'yb_nnvi', 'ya_ibp', 'yb_ibp'])"
      ]
     },
     "execution_count": 39,
     "metadata": {},
     "output_type": "execute_result"
    }
   ],
   "source": [
    "# weight_pruning_runs5_ibp_l2_wp_n.pkl\n",
    "with open('results/weight_pruning_runs5_ibp_wp_lr_n.pkl', 'rb') as input_file:\n",
    "    d = pickle.load(input_file)\n",
    "d.keys()"
   ]
  },
  {
   "cell_type": "code",
   "execution_count": 40,
   "metadata": {},
   "outputs": [],
   "source": [
    "xs_ibp = d['xs']\n",
    "ya = d['ya_nnvi']\n",
    "yb = d['yb_nnvi']\n",
    "ya_ibp = d['ya_ibp']\n",
    "yb_ibp = d['yb_ibp']"
   ]
  },
  {
   "cell_type": "code",
   "execution_count": 41,
   "metadata": {},
   "outputs": [
    {
     "data": {
      "text/plain": [
       "(19,)"
      ]
     },
     "execution_count": 41,
     "metadata": {},
     "output_type": "execute_result"
    }
   ],
   "source": [
    "xs_ibp.shape"
   ]
  },
  {
   "cell_type": "code",
   "execution_count": 42,
   "metadata": {},
   "outputs": [
    {
     "data": {
      "text/plain": [
       "0.9769994074785255"
      ]
     },
     "execution_count": 42,
     "metadata": {},
     "output_type": "execute_result"
    }
   ],
   "source": [
    "np.mean(ya[:,0]) # no pruning mfvi acc"
   ]
  },
  {
   "cell_type": "code",
   "execution_count": 43,
   "metadata": {},
   "outputs": [
    {
     "data": {
      "text/plain": [
       "dict_keys(['xs', 'ya_ibp', 'yb_ibp'])"
      ]
     },
     "execution_count": 43,
     "metadata": {},
     "output_type": "execute_result"
    }
   ],
   "source": [
    "# weight_pruning_runs5_ibp_l2_wp_n.pkl\n",
    "with open('results/weight_pruning_hibp_new_xs.pkl', 'rb') as input_file:\n",
    "    d = pickle.load(input_file)\n",
    "d.keys()"
   ]
  },
  {
   "cell_type": "code",
   "execution_count": 44,
   "metadata": {},
   "outputs": [],
   "source": [
    "xs_hibp = d['xs']\n",
    "ya_hibp = d['ya_ibp']\n",
    "yb_hibp = d['yb_ibp']"
   ]
  },
  {
   "cell_type": "code",
   "execution_count": 45,
   "metadata": {},
   "outputs": [
    {
     "data": {
      "text/plain": [
       "(19,)"
      ]
     },
     "execution_count": 45,
     "metadata": {},
     "output_type": "execute_result"
    }
   ],
   "source": [
    "xs_hibp.shape"
   ]
  },
  {
   "cell_type": "code",
   "execution_count": 46,
   "metadata": {},
   "outputs": [
    {
     "data": {
      "text/plain": [
       "(5, 19)"
      ]
     },
     "execution_count": 46,
     "metadata": {},
     "output_type": "execute_result"
    }
   ],
   "source": [
    "ya_hibp.shape"
   ]
  },
  {
   "cell_type": "code",
   "execution_count": 49,
   "metadata": {},
   "outputs": [
    {
     "data": {
      "image/png": "[encoded data removed]",
      "text/plain": [
       "<Figure size 432x360 with 1 Axes>"
      ]
     },
     "metadata": {
      "needs_background": "light"
     },
     "output_type": "display_data"
    }
   ],
   "source": [
    "_hibp_ya_mean = np.mean(ya_hibp, axis=0)\n",
    "_hibp_ya_std = np.std(ya_hibp, axis=0)\n",
    "_hibp_yb_mean = np.mean(yb_hibp, axis=0)\n",
    "_hibp_yb_std = np.std(yb_hibp, axis=0)\n",
    "_ya_mean = np.mean(ya, axis=0)\n",
    "_ya_std = np.std(ya, axis=0)\n",
    "_yb_mean = np.mean(yb, axis=0)\n",
    "_yb_std = np.std(yb, axis=0)\n",
    "\n",
    "def test_error(ls):\n",
    "    return 100*(1-np.array(ls))\n",
    "\n",
    "fig_size = (6, 5)\n",
    "\n",
    "set_y_axis = False\n",
    "\n",
    "lw = 2\n",
    "\n",
    "grid_color = '0.1'\n",
    "grid_lw = 0.2\n",
    "\n",
    "title_size = 16\n",
    "label_size = 22\n",
    "tick_size = 20\n",
    "legend_size = 22\n",
    "\n",
    "fig, ax = plt.subplots(1, 1, figsize=fig_size)\n",
    "\n",
    "ax.plot(xs_ibp, test_error(_hibp_ya_mean), linewidth=lw, color='b')\n",
    "ax.fill_between(xs_ibp,\n",
    "               test_error([x - y for x, y in zip(_hibp_ya_mean, _hibp_ya_std)]),\n",
    "               test_error([x + y for x, y in zip(_hibp_ya_mean, _hibp_ya_std)]),\n",
    "               alpha=0.3, color='b')\n",
    "\n",
    "ax.plot(xs_ibp, test_error(_hibp_yb_mean), linewidth=lw, color='g')\n",
    "ax.fill_between(xs_ibp,\n",
    "               test_error([x - y for x, y in zip(_hibp_yb_mean, _hibp_yb_std)]),\n",
    "               test_error([x + y for x, y in zip(_hibp_yb_mean, _hibp_yb_std)]),\n",
    "               alpha=0.3, color='g')\n",
    "\n",
    "ax.plot(xs_ibp, test_error(_ya_mean), linewidth=lw, color='r')\n",
    "ax.fill_between(xs_ibp,\n",
    "               test_error([x - y for x, y in zip(_ya_mean, _ya_std)]),\n",
    "               test_error([x + y for x, y in zip(_ya_mean, _ya_std)]),\n",
    "               alpha=0.3, color='r')\n",
    "\n",
    "ax.plot(xs_ibp, test_error(_yb_mean), linewidth=lw, color='c')\n",
    "ax.fill_between(xs_ibp,\n",
    "               test_error([x - y for x, y in zip(_yb_mean, _yb_std)]),\n",
    "               test_error([x + y for x, y in zip(_yb_mean, _yb_std)]),\n",
    "               alpha=0.3, color='c')\n",
    "\n",
    "plt.grid(True, which=\"both\", color=grid_color, linewidth=0.1, alpha=0.1)\n",
    "ax.set_xlim(0.0, 0.5)\n",
    "plt.yticks(fontsize=tick_size)\n",
    "x_ticks = np.arange(0.0, 1.5, step=0.1)\n",
    "plt.xticks(x_ticks, fontsize=tick_size)\n",
    "plt.ticklabel_format(axis='y')\n",
    "ax = fig.gca()\n",
    "#ax.ticklabel_format(axis='y', style='sci', scilimits=(-1, 1))\n",
    "#ax.set_yticklabels([])\n",
    "#plt.yscale('log')\n",
    "plt.legend([\"HIBNN $|\\mu|$\", 'HIBNN snr', 'BNN $|\\mu|$', 'BNN snr'], fontsize=legend_size, loc='upper left')\n",
    "plt.tight_layout()\n",
    "plt.xlabel(\"Cut off\", fontsize=legend_size)\n",
    "plt.ylabel(\"Test error\", fontsize=legend_size)\n",
    "plt.xlim(0.6, 1.0)\n",
    "ax.ticklabel_format(useOffset=False)\n",
    "plt.savefig(\"plots/weight_pruning_new_hibp_x5_better_mfvi.pdf\", bbox_inches='tight')\n",
    "plt.show()"
   ]
  },
  {
   "cell_type": "code",
   "execution_count": null,
   "metadata": {},
   "outputs": [],
   "source": [
    "_ibp_ya_mean = np.mean(ya_ibp, axis=0)\n",
    "_ibp_ya_std = np.std(ya_ibp, axis=0)\n",
    "_ibp_yb_mean = np.mean(yb_ibp, axis=0)\n",
    "_ibp_yb_std = np.std(yb_ibp, axis=0)\n",
    "_hibp_ya_mean = np.mean(ya_hibp, axis=0)\n",
    "_hibp_ya_std = np.std(ya_hibp, axis=0)\n",
    "_hibp_yb_mean = np.mean(yb_hibp, axis=0)\n",
    "_hibp_yb_std = np.std(yb_hibp, axis=0)\n",
    "\n",
    "def test_error(ls):\n",
    "    return 100*(1-np.array(ls))\n",
    "\n",
    "fig_size = (6, 5)\n",
    "\n",
    "set_y_axis = False\n",
    "\n",
    "lw = 2\n",
    "\n",
    "grid_color = '0.1'\n",
    "grid_lw = 0.2\n",
    "\n",
    "title_size = 16\n",
    "label_size = 22\n",
    "tick_size = 20\n",
    "legend_size = 22\n",
    "\n",
    "fig, ax = plt.subplots(1, 1, figsize=fig_size)\n",
    "\n",
    "ax.plot(xs_ibp, test_error(_ibp_ya_mean), linewidth=lw, color='b')\n",
    "ax.fill_between(xs_ibp,\n",
    "               test_error([x - y for x, y in zip(_ibp_ya_mean, _ibp_ya_std)]),\n",
    "               test_error([x + y for x, y in zip(_ibp_ya_mean, _ibp_ya_std)]),\n",
    "               alpha=0.2, color='b')\n",
    "\n",
    "ax.plot(xs_ibp, test_error(_ibp_yb_mean), linewidth=lw, color='r')\n",
    "ax.fill_between(xs_ibp,\n",
    "               test_error([x - y for x, y in zip(_ibp_yb_mean, _ibp_yb_std)]),\n",
    "               test_error([x + y for x, y in zip(_ibp_yb_mean, _ibp_yb_std)]),\n",
    "               alpha=0.2, color='r')\n",
    "\n",
    "ax.plot(xs_ibp, test_error(_hibp_ya_mean), linewidth=lw, color='g')\n",
    "ax.fill_between(xs_ibp,\n",
    "               test_error([x - y for x, y in zip(_hibp_ya_mean, _hibp_ya_std)]),\n",
    "               test_error([x + y for x, y in zip(_hibp_ya_mean, _hibp_ya_std)]),\n",
    "               alpha=0.2, color='g')\n",
    "\n",
    "ax.plot(xs_ibp, test_error(_hibp_yb_mean), linewidth=lw, color='c')\n",
    "ax.fill_between(xs_ibp,\n",
    "               test_error([x - y for x, y in zip(_hibp_yb_mean, _hibp_yb_std)]),\n",
    "               test_error([x + y for x, y in zip(_hibp_yb_mean, _hibp_yb_std)]),\n",
    "               alpha=0.2, color='c')\n",
    "\n",
    "plt.grid(True, which=\"both\", color=grid_color, linewidth=0.1, alpha=0.1)\n",
    "plt.yticks(fontsize=tick_size)\n",
    "x_ticks = np.arange(0.0, 1.5, step=0.02)\n",
    "plt.xticks(x_ticks, fontsize=tick_size)\n",
    "plt.ticklabel_format(axis='y', style='sci')\n",
    "ax = fig.gca()\n",
    "ax.ticklabel_format(axis='y', style='sci', scilimits=(-1, 1))\n",
    "#ax.set_yticklabels([])\n",
    "#plt.yscale('log')\n",
    "#plt.legend([\"IBP $|\\mu|$\", 'IBP snr'], fontsize=legend_size, loc='top left')\n",
    "plt.legend([\"IBP $|\\mu|$\", 'IBP snr',\n",
    "           \"H-IBP $|\\mu|$\", 'H-IBP snr',], fontsize=legend_size, loc='upper left')\n",
    "plt.tight_layout()\n",
    "plt.xlabel(\"Cut off\", fontsize=legend_size)\n",
    "plt.ylabel(\"Test error\", fontsize=legend_size)\n",
    "plt.xlim(0.9, 1.0)\n",
    "#plt.savefig(\"plots/weight_pruning_mnist_ibp_vs_hibp.pdf\", bbox_inches='tight')\n",
    "plt.show()"
   ]
  },
  {
   "cell_type": "code",
   "execution_count": null,
   "metadata": {},
   "outputs": [],
   "source": []
  }
 ],
 "metadata": {
  "kernelspec": {
   "display_name": "Python [conda env:tf-gpu-cuda8] *",
   "language": "python",
   "name": "conda-env-tf-gpu-cuda8-py"
  },
  "language_info": {
   "codemirror_mode": {
    "name": "ipython",
    "version": 3
   },
   "file_extension": ".py",
   "mimetype": "text/x-python",
   "name": "python",
   "nbconvert_exporter": "python",
   "pygments_lexer": "ipython3",
   "version": "3.7.6"
  }
 },
 "nbformat": 4,
 "nbformat_minor": 2
}
