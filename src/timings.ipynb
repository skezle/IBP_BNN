{
 "cells": [
  {
   "cell_type": "code",
   "execution_count": 12,
   "metadata": {},
   "outputs": [],
   "source": [
    "import numpy as np\n",
    "import pickle\n",
    "\n",
    "import matplotlib\n",
    "%matplotlib inline\n",
    "import matplotlib.pyplot as plt"
   ]
  },
  {
   "cell_type": "markdown",
   "metadata": {},
   "source": [
    "Reading of training time elapsed from tensorboard"
   ]
  },
  {
   "cell_type": "code",
   "execution_count": 13,
   "metadata": {},
   "outputs": [],
   "source": [
    "# Permuted MNIST\n",
    "p_mins_ibp = [26, 27, 27, 25, 26, 26, 26, 28, 27, 26]\n",
    "p_secs_ibp = [19, 40, 54, 57, 47, 35, 24, 2, 0, 39]\n",
    "p_mins_vcl = [11, 10, 10, 10, 9, 9, 9, 10, 10]\n",
    "p_secs_vcl = [9, 38, 35, 19, 13, 13, 55, 11, 11]\n",
    "# SPlit MNIST l2\n",
    "s_hours_ibp = [1, 1, 1, 1, 1, 1, 1, 1]\n",
    "s_mins_ibp = [24, 23, 24, 23, 24, 23, 24, 23]\n",
    "s_secs_ibp = [5, 26, 25, 53, 29, 45, 25, 52]\n",
    "s_mins_vcl = [4, 4, 4, 4, 4, 4, 4, 4]\n",
    "s_secs_vcl = [21, 20, 12, 7, 12, 8, 16, 17]"
   ]
  },
  {
   "cell_type": "code",
   "execution_count": 14,
   "metadata": {},
   "outputs": [],
   "source": [
    "p_times_ibp = [a + (b / 60.0) for a, b in zip(p_mins_ibp, p_secs_ibp)]\n",
    "p_times_vcl = [a + (b / 60.0) for a, b in zip(p_mins_vcl, p_secs_vcl)]\n",
    "s_times_ibp = [a*60 + b + (c / 60.0) for a, b, c in zip(s_hours_ibp, s_mins_ibp, s_secs_ibp)]\n",
    "s_times_vcl = [a + (b / 60.0) for a, b in zip(s_mins_vcl, s_secs_vcl)]"
   ]
  },
  {
   "cell_type": "code",
   "execution_count": 29,
   "metadata": {},
   "outputs": [
    {
     "data": {
      "image/png": "[encoded data removed]",
      "text/plain": [
       "<Figure size 216x216 with 1 Axes>"
      ]
     },
     "metadata": {
      "needs_background": "light"
     },
     "output_type": "display_data"
    }
   ],
   "source": [
    "from matplotlib.ticker import FormatStrFormatter\n",
    "lw = 2\n",
    "grid_color = '0.1'\n",
    "grid_lw = 0.2\n",
    "title_size = 16\n",
    "label_size = 22\n",
    "tick_size = 14\n",
    "legend_size = 16\n",
    "fig, ax = plt.subplots(1, 1, figsize=(3, 3))\n",
    "x = ['vcl', 'ibnn']\n",
    "times = [np.mean(p_times_vcl), np.mean(p_times_ibp)]\n",
    "times_std = [np.std(p_times_vcl), np.std(p_times_ibp)]\n",
    "\n",
    "x_pos = [i*0.2 for i, _ in enumerate(x)]\n",
    "\n",
    "ax.bar(x_pos, times, yerr=times_std, color='blue', width=0.1)\n",
    "ax.set_ylabel(\"mins\", fontsize=legend_size)\n",
    "plt.xticks(x_pos, x, fontsize=legend_size)\n",
    "plt.yticks(fontsize=tick_size)\n",
    "plt.grid(True, which=\"both\", color=grid_color, linewidth=0.1, alpha=0.1)\n",
    "#ax[5].legend()\n",
    "plt.savefig(\"plots/times_perm.pdf\", bbox_inches='tight')\n",
    "fig.show()"
   ]
  },
  {
   "cell_type": "code",
   "execution_count": 30,
   "metadata": {},
   "outputs": [
    {
     "data": {
      "image/png": "[encoded data removed]",
      "text/plain": [
       "<Figure size 216x216 with 1 Axes>"
      ]
     },
     "metadata": {
      "needs_background": "light"
     },
     "output_type": "display_data"
    }
   ],
   "source": [
    "from matplotlib.ticker import FormatStrFormatter\n",
    "lw = 2\n",
    "grid_color = '0.1'\n",
    "grid_lw = 0.2\n",
    "title_size = 16\n",
    "label_size = 22\n",
    "tick_size = 14\n",
    "legend_size = 16\n",
    "fig, ax = plt.subplots(1, 1, figsize=(3, 3))\n",
    "x = ['vcl', 'ibnn']\n",
    "times = [np.mean(s_times_vcl), np.mean(s_times_ibp)]\n",
    "times_std = [np.std(s_times_vcl), np.std(s_times_ibp)]\n",
    "\n",
    "x_pos = [i*0.2 for i, _ in enumerate(x)]\n",
    "\n",
    "ax.bar(x_pos, times, yerr=times_std, color='blue', width=0.1)\n",
    "ax.set_ylabel(\"mins\", fontsize=legend_size)\n",
    "plt.xticks(x_pos, x, fontsize=legend_size)\n",
    "plt.yticks(fontsize=tick_size)\n",
    "plt.grid(True, which=\"both\", color=grid_color, linewidth=0.1, alpha=0.1)\n",
    "#ax[5].legend()\n",
    "plt.savefig(\"plots/times_split.pdf\", bbox_inches='tight')\n",
    "fig.show()"
   ]
  },
  {
   "cell_type": "code",
   "execution_count": null,
   "metadata": {},
   "outputs": [],
   "source": []
  }
 ],
 "metadata": {
  "kernelspec": {
   "display_name": "Python [conda env:tf-gpu-cuda8] *",
   "language": "python",
   "name": "conda-env-tf-gpu-cuda8-py"
  },
  "language_info": {
   "codemirror_mode": {
    "name": "ipython",
    "version": 3
   },
   "file_extension": ".py",
   "mimetype": "text/x-python",
   "name": "python",
   "nbconvert_exporter": "python",
   "pygments_lexer": "ipython3",
   "version": "3.7.6"
  }
 },
 "nbformat": 4,
 "nbformat_minor": 2
}
